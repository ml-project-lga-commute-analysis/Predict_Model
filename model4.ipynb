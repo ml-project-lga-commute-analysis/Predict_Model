{
 "cells": [
  {
   "cell_type": "code",
   "execution_count": 1,
   "metadata": {},
   "outputs": [
    {
     "name": "stdout",
     "output_type": "stream",
     "text": [
      "Populating the interactive namespace from numpy and matplotlib\n"
     ]
    }
   ],
   "source": [
    "import pandas as pd\n",
    "import numpy as np\n",
    "import seaborn as sns\n",
    "from sklearn.model_selection import train_test_split\n",
    "\n",
    "pd.set_option('display.max_columns', 500)\n",
    "pd.set_option('display.max_row', 500)\n",
    "pd.set_option('precision', 5)\n",
    "pd.set_option('display.float_format', lambda x: '%.3f' % x) \n",
    "\n",
    "%pylab inline\n",
    "\n",
    "import warnings\n",
    "warnings.filterwarnings('ignore')"
   ]
  },
  {
   "cell_type": "code",
   "execution_count": 15,
   "metadata": {},
   "outputs": [],
   "source": [
    "data = pd.read_csv(\"clean_data_with_all_feature.csv\")"
   ]
  },
  {
   "cell_type": "code",
   "execution_count": 16,
   "metadata": {},
   "outputs": [],
   "source": [
    "X = data.iloc[:,1:22].astype(float)\n",
    "y = data.iloc[:,0]"
   ]
  },
  {
   "cell_type": "code",
   "execution_count": 17,
   "metadata": {},
   "outputs": [],
   "source": [
    "X_train, X_test, y_train, y_test = train_test_split(X, y, test_size = 0.3, random_state = 11)  \n",
    "\n",
    "#X_train_less, X_valid, y_test_less, y_valid = train_test_split(X_train, y_train, test_size = 0.3, random_state = 14)  "
   ]
  },
  {
   "cell_type": "code",
   "execution_count": 18,
   "metadata": {},
   "outputs": [],
   "source": [
    "from sklearn.datasets import load_boston\n",
    "from sklearn.model_selection import train_test_split\n",
    "from sklearn import preprocessing\n",
    "from sklearn.neural_network import MLPRegressor\n",
    "from sklearn.metrics import mean_squared_error, r2_score, roc_auc_score, roc_curve\n",
    "from sklearn.model_selection import GridSearchCV, ShuffleSplit"
   ]
  },
  {
   "cell_type": "code",
   "execution_count": 22,
   "metadata": {},
   "outputs": [],
   "source": [
    "param_mlp = {'hidden_layer_sizes': [(20, 20, 20), (50,50,50), (50,100,50), (100, 100, 100)], \n",
    "             'activation': ['identity', 'logistic', 'tanh', 'relu'],  \n",
    "             'alpha': np.logspace(-4, 0, 200), 'learning_rate': ['constant','adaptive']}"
   ]
  },
  {
   "cell_type": "code",
   "execution_count": 25,
   "metadata": {},
   "outputs": [],
   "source": [
    "param_mlp = {'hidden_layer_sizes': [(20, 20, 20), (50,50,50), (50,100,50), (100, 100, 100)]}"
   ]
  },
  {
   "cell_type": "code",
   "execution_count": 26,
   "metadata": {},
   "outputs": [],
   "source": [
    "mlpr = MLPRegressor(max_iter=100, random_state=1114)\n",
    "mlp = GridSearchCV(mlpr, param_grid = param_mlp)\n"
   ]
  },
  {
   "cell_type": "code",
   "execution_count": null,
   "metadata": {},
   "outputs": [],
   "source": [
    "mlp.fit(X_train,y_train.ravel())\n",
    "mlp_score=mlp.score(X_test,y_test.ravel())\n",
    "#pred=mlp.predict(X_test)\n",
    "\n",
    "print(mlp.grid_scores_, mlp.best_params_, mlp.best_score_)"
   ]
  },
  {
   "cell_type": "code",
   "execution_count": null,
   "metadata": {},
   "outputs": [],
   "source": [
    "'solver': ['sgd', 'adam', 'lbfgs'],"
   ]
  },
  {
   "cell_type": "code",
   "execution_count": null,
   "metadata": {},
   "outputs": [],
   "source": [
    "print('MLP score',mlp_score)\n",
    "print(\"MSE:\", mean_squared_error(pred, y_test))\n",
    "print(\"R2:\", r2_score(pred, y_test))"
   ]
  }
 ],
 "metadata": {
  "kernelspec": {
   "display_name": "ADS",
   "language": "python",
   "name": "ads"
  }
 },
 "nbformat": 4,
 "nbformat_minor": 2
}
