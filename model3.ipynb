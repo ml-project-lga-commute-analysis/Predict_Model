{
 "cells": [
  {
   "cell_type": "code",
   "execution_count": 1,
   "metadata": {},
   "outputs": [
    {
     "name": "stdout",
     "output_type": "stream",
     "text": [
      "Populating the interactive namespace from numpy and matplotlib\n"
     ]
    }
   ],
   "source": [
    "import pandas as pd\n",
    "import numpy as np\n",
    "import seaborn as sns\n",
    "from sklearn.model_selection import train_test_split\n",
    "\n",
    "pd.set_option('display.max_columns', 500)\n",
    "pd.set_option('display.max_row', 500)\n",
    "pd.set_option('precision', 5)\n",
    "pd.set_option('display.float_format', lambda x: '%.3f' % x) \n",
    "\n",
    "%pylab inline\n",
    "\n",
    "import warnings\n",
    "warnings.filterwarnings('ignore')"
   ]
  },
  {
   "cell_type": "code",
   "execution_count": 2,
   "metadata": {},
   "outputs": [],
   "source": [
    "data = pd.read_csv(\"clean_data_with_all_feature.csv\")"
   ]
  },
  {
   "cell_type": "code",
   "execution_count": 3,
   "metadata": {},
   "outputs": [],
   "source": [
    "X = data.iloc[:,1:22].astype(float)\n",
    "y = data.iloc[:,0]"
   ]
  },
  {
   "cell_type": "code",
   "execution_count": 4,
   "metadata": {},
   "outputs": [],
   "source": [
    "X_train, X_test, y_train, y_test = train_test_split(X, y, test_size = 0.3, random_state = 11)  \n",
    "\n",
    "X_train_less, X_valid, y_test_less, y_valid = train_test_split(X_train, y_train, test_size = 0.3, random_state = 14)  "
   ]
  },
  {
   "cell_type": "code",
   "execution_count": 6,
   "metadata": {},
   "outputs": [],
   "source": [
    "from sklearn.ensemble import GradientBoostingRegressor\n",
    "from sklearn.metrics import mean_squared_error, r2_score, roc_auc_score, roc_curve\n",
    "from sklearn.model_selection import GridSearchCV, ShuffleSplit"
   ]
  },
  {
   "cell_type": "code",
   "execution_count": null,
   "metadata": {},
   "outputs": [],
   "source": [
    "param_gb = {'n_estimators':range(10,100,10)}\n",
    "\n",
    "gbr = GradientBoostingRegressor(max_features='sqrt', random_state=1114)\n",
    "gb = GridSearchCV(gbr, param_grid = param_gb, cv=5)\n",
    "gb.fit(X_train, y_train)\n"
   ]
  },
  {
   "cell_type": "code",
   "execution_count": 9,
   "metadata": {},
   "outputs": [
    {
     "data": {
      "text/plain": [
       "({'mean_fit_time': array([ 11.5444078 ,  18.84470162,  25.68073897,  32.74952726,\n",
       "          40.38233519,  45.77173505,  52.43281589,  59.66707778,  64.09134855]),\n",
       "  'mean_score_time': array([ 0.18817153,  0.27912445,  0.33160253,  0.34898715,  0.35747194,\n",
       "          0.34947357,  0.39209051,  0.43609266,  0.46518245]),\n",
       "  'mean_test_score': array([ 0.40265959,  0.51535116,  0.55452636,  0.57740614,  0.58900778,\n",
       "          0.59701321,  0.60381155,  0.60836585,  0.61251302]),\n",
       "  'mean_train_score': array([ 0.40280379,  0.51557884,  0.55480861,  0.57773516,  0.58941917,\n",
       "          0.59747985,  0.60434533,  0.60894731,  0.61312475]),\n",
       "  'param_n_estimators': masked_array(data = [10 20 30 40 50 60 70 80 90],\n",
       "               mask = [False False False False False False False False False],\n",
       "         fill_value = ?),\n",
       "  'params': [{'n_estimators': 10},\n",
       "   {'n_estimators': 20},\n",
       "   {'n_estimators': 30},\n",
       "   {'n_estimators': 40},\n",
       "   {'n_estimators': 50},\n",
       "   {'n_estimators': 60},\n",
       "   {'n_estimators': 70},\n",
       "   {'n_estimators': 80},\n",
       "   {'n_estimators': 90}],\n",
       "  'rank_test_score': array([9, 8, 7, 6, 5, 4, 3, 2, 1], dtype=int32),\n",
       "  'split0_test_score': array([ 0.40286508,  0.51357527,  0.55415498,  0.57739676,  0.5890273 ,\n",
       "          0.59672638,  0.60318881,  0.60796973,  0.6118856 ]),\n",
       "  'split0_train_score': array([ 0.40325944,  0.51434493,  0.55506879,  0.57836428,  0.5902318 ,\n",
       "          0.59827077,  0.60512157,  0.61008998,  0.61414424]),\n",
       "  'split1_test_score': array([ 0.40136386,  0.51321543,  0.55286298,  0.57658555,  0.58771103,\n",
       "          0.59529366,  0.60212905,  0.60645169,  0.61056324]),\n",
       "  'split1_train_score': array([ 0.40239262,  0.51447185,  0.55408473,  0.57785147,  0.58896738,\n",
       "          0.59668044,  0.60359193,  0.60799809,  0.61211254]),\n",
       "  'split2_test_score': array([ 0.40216047,  0.51533137,  0.55362254,  0.57648854,  0.58831037,\n",
       "          0.59747842,  0.60470283,  0.60940853,  0.61320373]),\n",
       "  'split2_train_score': array([ 0.40171468,  0.51492278,  0.55307115,  0.57576086,  0.58749462,\n",
       "          0.59636458,  0.60344441,  0.60814087,  0.611917  ]),\n",
       "  'split3_test_score': array([ 0.40535531,  0.51949771,  0.55856448,  0.58087032,  0.59248982,\n",
       "          0.60120304,  0.60758286,  0.61213726,  0.61614722]),\n",
       "  'split3_train_score': array([ 0.40363405,  0.5167197 ,  0.55564118,  0.57798046,  0.58971149,\n",
       "          0.59855876,  0.605126  ,  0.60976441,  0.61390053]),\n",
       "  'split4_test_score': array([ 0.40155321,  0.51513602,  0.5534268 ,  0.57568952,  0.58750039,\n",
       "          0.59436452,  0.60145421,  0.60586202,  0.61076533]),\n",
       "  'split4_train_score': array([ 0.40301814,  0.51743496,  0.55617722,  0.57871873,  0.59069057,\n",
       "          0.59752468,  0.60444273,  0.60874319,  0.61354943]),\n",
       "  'std_fit_time': array([ 0.47069032,  0.08940092,  0.32571479,  0.1122898 ,  0.808897  ,\n",
       "          0.70095933,  0.22727315,  1.63692905,  0.92777907]),\n",
       "  'std_score_time': array([ 0.05206311,  0.00628151,  0.00751743,  0.05161164,  0.04732674,\n",
       "          0.04628672,  0.05455376,  0.05787467,  0.0444164 ]),\n",
       "  'std_test_score': array([ 0.00144646,  0.00223408,  0.00206093,  0.00181454,  0.00182017,\n",
       "          0.00235906,  0.00218141,  0.00225392,  0.00204618]),\n",
       "  'std_train_score': array([ 0.00067796,  0.00125898,  0.00111146,  0.00103293,  0.00111984,\n",
       "          0.00085726,  0.00072121,  0.00084456,  0.00092788])},\n",
       " {'n_estimators': 90},\n",
       " 0.61251302477804137)"
      ]
     },
     "execution_count": 9,
     "metadata": {},
     "output_type": "execute_result"
    }
   ],
   "source": [
    "pred=gb.predict(X_test)\n",
    "\n",
    "gb.cv_results_, gb.best_params_, gb.best_score_"
   ]
  },
  {
   "cell_type": "code",
   "execution_count": 13,
   "metadata": {},
   "outputs": [
    {
     "data": {
      "text/plain": [
       "({'mean_fit_time': array([  260.18947644,   132.74321084,   276.90318623,   774.23449068,\n",
       "          2348.5829165 ,  6610.18280745]),\n",
       "  'mean_score_time': array([ 0.7726944 ,  0.72499738,  1.14852057,  2.86357417,  2.99660792,\n",
       "          4.85524311]),\n",
       "  'mean_test_score': array([ 0.61656708,  0.64862267,  0.67618153,  0.70516813,  0.7395482 ,\n",
       "          0.77764646]),\n",
       "  'mean_train_score': array([ 0.61720404,  0.65050301,  0.68131253,  0.717249  ,  0.76465822,\n",
       "          0.82277417]),\n",
       "  'param_max_depth': masked_array(data = [3 5 7 9 11 13],\n",
       "               mask = [False False False False False False],\n",
       "         fill_value = ?),\n",
       "  'params': [{'max_depth': 3},\n",
       "   {'max_depth': 5},\n",
       "   {'max_depth': 7},\n",
       "   {'max_depth': 9},\n",
       "   {'max_depth': 11},\n",
       "   {'max_depth': 13}],\n",
       "  'rank_test_score': array([6, 5, 4, 3, 2, 1], dtype=int32),\n",
       "  'split0_test_score': array([ 0.61568423,  0.64623266,  0.67437059,  0.70251782,  0.7365429 ,\n",
       "          0.77477803]),\n",
       "  'split0_train_score': array([ 0.61804747,  0.65072779,  0.68234854,  0.71723197,  0.7644976 ,\n",
       "          0.82138089]),\n",
       "  'split1_test_score': array([ 0.61485248,  0.64763506,  0.67529851,  0.70467527,  0.73895632,\n",
       "          0.77588907]),\n",
       "  'split1_train_score': array([ 0.61647247,  0.65051182,  0.68116674,  0.7173547 ,  0.76489877,\n",
       "          0.82247875]),\n",
       "  'split2_test_score': array([ 0.61753494,  0.65032226,  0.67814482,  0.70615363,  0.74132918,\n",
       "          0.77837271]),\n",
       "  'split2_train_score': array([ 0.61627475,  0.65003629,  0.68122387,  0.71677565,  0.76587108,\n",
       "          0.82267535]),\n",
       "  'split3_test_score': array([ 0.62019533,  0.65121144,  0.6781669 ,  0.70760587,  0.74130289,\n",
       "          0.7810513 ]),\n",
       "  'split3_train_score': array([ 0.61791266,  0.65032821,  0.68072158,  0.71740695,  0.76352324,\n",
       "          0.82327449]),\n",
       "  'split4_test_score': array([ 0.61456842,  0.64771195,  0.67492683,  0.70488807,  0.7396097 ,\n",
       "          0.77814122]),\n",
       "  'split4_train_score': array([ 0.61731286,  0.65091093,  0.68110193,  0.71747571,  0.76450041,\n",
       "          0.82406138]),\n",
       "  'std_fit_time': array([ 129.29131998,   31.97995016,   34.97200397,  141.09526567,\n",
       "           72.66023102,  410.11257237]),\n",
       "  'std_score_time': array([ 0.14856297,  0.0158182 ,  0.15583978,  2.59010309,  0.66467093,\n",
       "          1.90148884]),\n",
       "  'std_test_score': array([ 0.00208877,  0.00184972,  0.00163889,  0.00168875,  0.00176843,\n",
       "          0.00217631]),\n",
       "  'std_train_score': array([ 0.00072445,  0.00030509,  0.000547  ,  0.00024975,  0.00075734,\n",
       "          0.00088831])},\n",
       " {'max_depth': 13},\n",
       " 0.77764646393086057)"
      ]
     },
     "execution_count": 13,
     "metadata": {},
     "output_type": "execute_result"
    }
   ],
   "source": [
    "param_gb = {'max_depth': range(3,14,2)}\n",
    "\n",
    "gbr = GradientBoostingRegressor(max_features='sqrt', random_state=1114)\n",
    "gb = GridSearchCV(gbr, param_grid = param_gb)\n",
    "gb.fit(X_train, y_train)\n",
    "#pred=gb.predict(X_test)\n",
    "\n",
    "gb.cv_results_, gb.best_params_, gb.best_score_"
   ]
  },
  {
   "cell_type": "code",
   "execution_count": 14,
   "metadata": {},
   "outputs": [
    {
     "data": {
      "text/plain": [
       "({'mean_fit_time': array([ 100.13936965,  111.14884146,  136.74820598,  155.9157424 ,\n",
       "          192.09787218,  207.19391195,  335.53442375,  351.87861641]),\n",
       "  'mean_score_time': array([ 1.41102815,  1.15137037,  1.30853724,  1.42196218,  1.54259753,\n",
       "          1.31044761,  2.38611611,  2.34097958]),\n",
       "  'mean_test_score': array([ 0.61924155,  0.62562594,  0.6273475 ,  0.627895  ,  0.62840509,\n",
       "          0.6293951 ,  0.62953136,  0.62931691]),\n",
       "  'mean_train_score': array([ 0.62000684,  0.62625006,  0.62810796,  0.62866589,  0.6291518 ,\n",
       "          0.63026437,  0.6303456 ,  0.63012147]),\n",
       "  'param_max_features': masked_array(data = [5 7 9 11 13 15 17 19],\n",
       "               mask = [False False False False False False False False],\n",
       "         fill_value = ?),\n",
       "  'params': [{'max_features': 5},\n",
       "   {'max_features': 7},\n",
       "   {'max_features': 9},\n",
       "   {'max_features': 11},\n",
       "   {'max_features': 13},\n",
       "   {'max_features': 15},\n",
       "   {'max_features': 17},\n",
       "   {'max_features': 19}],\n",
       "  'rank_test_score': array([8, 7, 6, 5, 4, 2, 1, 3], dtype=int32),\n",
       "  'split0_test_score': array([ 0.61814573,  0.62358343,  0.62520984,  0.62613811,  0.62740859,\n",
       "          0.62804819,  0.62768889,  0.62767869]),\n",
       "  'split0_train_score': array([ 0.62165657,  0.62733161,  0.62909828,  0.63017097,  0.63114517,\n",
       "          0.63189993,  0.63171437,  0.63156387]),\n",
       "  'split1_test_score': array([ 0.62021266,  0.62686653,  0.62867807,  0.6299123 ,  0.6295592 ,\n",
       "          0.63073134,  0.63090005,  0.6310692 ]),\n",
       "  'split1_train_score': array([ 0.61870635,  0.62505937,  0.62700197,  0.62822118,  0.62783236,\n",
       "          0.62911019,  0.62904481,  0.62927155]),\n",
       "  'split2_test_score': array([ 0.61936628,  0.62642785,  0.62815458,  0.6276346 ,  0.62824747,\n",
       "          0.62940576,  0.63000515,  0.62920284]),\n",
       "  'split2_train_score': array([ 0.6196576 ,  0.62635919,  0.62822363,  0.62760552,  0.62847787,\n",
       "          0.62978298,  0.63027761,  0.62952901]),\n",
       "  'std_fit_time': array([  8.83210344,   3.61204195,   4.50315291,   3.27276231,\n",
       "           2.58173342,   8.3966348 ,  36.82614765,  47.51247216]),\n",
       "  'std_score_time': array([ 0.12714615,  0.07428931,  0.08326284,  0.3672065 ,  0.40648428,\n",
       "          0.31491767,  0.82150352,  0.73587083]),\n",
       "  'std_test_score': array([ 0.00084842,  0.00145533,  0.00152658,  0.00155177,  0.00088503,\n",
       "          0.00109542,  0.00135308,  0.00138652]),\n",
       "  'std_train_score': array([ 0.00122948,  0.00093084,  0.00085971,  0.00109353,  0.00143395,\n",
       "          0.00118868,  0.00109091,  0.00102533])},\n",
       " {'max_features': 17},\n",
       " 0.62953136259934317)"
      ]
     },
     "execution_count": 14,
     "metadata": {},
     "output_type": "execute_result"
    }
   ],
   "source": [
    "param_gb = {'max_features':range(5,20,2)}\n",
    "\n",
    "gbr = GradientBoostingRegressor(max_features='sqrt', random_state=1114)\n",
    "gb = GridSearchCV(gbr, param_grid = param_gb)\n",
    "gb.fit(X_train, y_train)\n",
    "#pred=gb.predict(X_test)\n",
    "\n",
    "gb.cv_results_, gb.best_params_, gb.best_score_"
   ]
  },
  {
   "cell_type": "code",
   "execution_count": 15,
   "metadata": {},
   "outputs": [
    {
     "data": {
      "text/plain": [
       "({'mean_fit_time': array([  93.01112103,  111.84157681,  135.18069235,  161.22567884,\n",
       "          185.31055061,  209.75327365,  205.07253448,  236.0645864 ]),\n",
       "  'mean_score_time': array([ 1.00670449,  1.08208831,  1.17426825,  1.06289061,  1.08761787,\n",
       "          1.01111921,  1.04094783,  1.06317472]),\n",
       "  'mean_test_score': array([ 0.61924155,  0.62562594,  0.6273475 ,  0.627895  ,  0.62840509,\n",
       "          0.6293951 ,  0.62953136,  0.62931691]),\n",
       "  'mean_train_score': array([ 0.62000684,  0.62625006,  0.62810796,  0.62866589,  0.6291518 ,\n",
       "          0.63026437,  0.6303456 ,  0.63012147]),\n",
       "  'param_max_features': masked_array(data = [5 7 9 11 13 15 17 19],\n",
       "               mask = [False False False False False False False False],\n",
       "         fill_value = ?),\n",
       "  'params': [{'max_features': 5},\n",
       "   {'max_features': 7},\n",
       "   {'max_features': 9},\n",
       "   {'max_features': 11},\n",
       "   {'max_features': 13},\n",
       "   {'max_features': 15},\n",
       "   {'max_features': 17},\n",
       "   {'max_features': 19}],\n",
       "  'rank_test_score': array([8, 7, 6, 5, 4, 2, 1, 3], dtype=int32),\n",
       "  'split0_test_score': array([ 0.61814573,  0.62358343,  0.62520984,  0.62613811,  0.62740859,\n",
       "          0.62804819,  0.62768889,  0.62767869]),\n",
       "  'split0_train_score': array([ 0.62165657,  0.62733161,  0.62909828,  0.63017097,  0.63114517,\n",
       "          0.63189993,  0.63171437,  0.63156387]),\n",
       "  'split1_test_score': array([ 0.62021266,  0.62686653,  0.62867807,  0.6299123 ,  0.6295592 ,\n",
       "          0.63073134,  0.63090005,  0.6310692 ]),\n",
       "  'split1_train_score': array([ 0.61870635,  0.62505937,  0.62700197,  0.62822118,  0.62783236,\n",
       "          0.62911019,  0.62904481,  0.62927155]),\n",
       "  'split2_test_score': array([ 0.61936628,  0.62642785,  0.62815458,  0.6276346 ,  0.62824747,\n",
       "          0.62940576,  0.63000515,  0.62920284]),\n",
       "  'split2_train_score': array([ 0.6196576 ,  0.62635919,  0.62822363,  0.62760552,  0.62847787,\n",
       "          0.62978298,  0.63027761,  0.62952901]),\n",
       "  'std_fit_time': array([  1.72523385,   9.06916979,   4.20603251,   7.78681869,\n",
       "          12.07109065,  41.41975879,   8.13641451,  12.39780472]),\n",
       "  'std_score_time': array([ 0.01101502,  0.08052998,  0.07638718,  0.07113298,  0.07770791,\n",
       "          0.08734632,  0.11362556,  0.03343917]),\n",
       "  'std_test_score': array([ 0.00084842,  0.00145533,  0.00152658,  0.00155177,  0.00088503,\n",
       "          0.00109542,  0.00135308,  0.00138652]),\n",
       "  'std_train_score': array([ 0.00122948,  0.00093084,  0.00085971,  0.00109353,  0.00143395,\n",
       "          0.00118868,  0.00109091,  0.00102533])},\n",
       " {'max_features': 17},\n",
       " 0.62953136259934317)"
      ]
     },
     "execution_count": 15,
     "metadata": {},
     "output_type": "execute_result"
    }
   ],
   "source": [
    "param_gb = {'max_features':range(5,20,2)}\n",
    "\n",
    "gbr = GradientBoostingRegressor(random_state=1114)\n",
    "gb = GridSearchCV(gbr, param_grid = param_gb)\n",
    "gb.fit(X_train, y_train)\n",
    "#pred=gb.predict(X_test)\n",
    "\n",
    "gb.cv_results_, gb.best_params_, gb.best_score_"
   ]
  },
  {
   "cell_type": "code",
   "execution_count": null,
   "metadata": {},
   "outputs": [],
   "source": [
    ", 'min_samples_split': range(100,2001,200), 'min_samples_leaf':range(10,101,10)"
   ]
  }
 ],
 "metadata": {
  "kernelspec": {
   "display_name": "ADS",
   "language": "python",
   "name": "ads"
  },
  "language_info": {
   "codemirror_mode": {
    "name": "ipython",
    "version": 3
   },
   "file_extension": ".py",
   "mimetype": "text/x-python",
   "name": "python",
   "nbconvert_exporter": "python",
   "pygments_lexer": "ipython3",
   "version": "3.5.0"
  }
 },
 "nbformat": 4,
 "nbformat_minor": 2
}
